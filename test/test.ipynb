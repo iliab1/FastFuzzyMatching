{
 "cells": [
  {
   "cell_type": "code",
   "id": "b0cd41f941b5716c",
   "metadata": {
    "ExecuteTime": {
     "end_time": "2024-07-18T16:46:13.328399Z",
     "start_time": "2024-07-18T16:46:13.319968Z"
    }
   },
   "source": [
    "import pandas as pd\n",
    "\n",
    "# Import fuzzy matching benchmark dataset\n",
    "# https://www.kaggle.com/datasets/shahrukhkhan/fuzzy-matching-benchmark\n",
    "words = pd.read_csv('data.csv')"
   ],
   "outputs": [],
   "execution_count": 34
  },
  {
   "metadata": {
    "ExecuteTime": {
     "end_time": "2024-07-18T16:46:18.137242Z",
     "start_time": "2024-07-18T16:46:18.133159Z"
    }
   },
   "cell_type": "code",
   "source": "words.head()",
   "id": "9f500f9b6616aa93",
   "outputs": [
    {
     "data": {
      "text/plain": [
       "        word1        word2  score\n",
       "0  inevitable  inevyitable   0.95\n",
       "1  elbativeni  inevyitable   0.29\n",
       "2  inevitable  elbatiyveni   0.29\n",
       "3  elbativeni  elbatiyveni   0.95\n",
       "4   Computing      Service   0.12"
      ],
      "text/html": [
       "<div>\n",
       "<style scoped>\n",
       "    .dataframe tbody tr th:only-of-type {\n",
       "        vertical-align: middle;\n",
       "    }\n",
       "\n",
       "    .dataframe tbody tr th {\n",
       "        vertical-align: top;\n",
       "    }\n",
       "\n",
       "    .dataframe thead th {\n",
       "        text-align: right;\n",
       "    }\n",
       "</style>\n",
       "<table border=\"1\" class=\"dataframe\">\n",
       "  <thead>\n",
       "    <tr style=\"text-align: right;\">\n",
       "      <th></th>\n",
       "      <th>word1</th>\n",
       "      <th>word2</th>\n",
       "      <th>score</th>\n",
       "    </tr>\n",
       "  </thead>\n",
       "  <tbody>\n",
       "    <tr>\n",
       "      <th>0</th>\n",
       "      <td>inevitable</td>\n",
       "      <td>inevyitable</td>\n",
       "      <td>0.95</td>\n",
       "    </tr>\n",
       "    <tr>\n",
       "      <th>1</th>\n",
       "      <td>elbativeni</td>\n",
       "      <td>inevyitable</td>\n",
       "      <td>0.29</td>\n",
       "    </tr>\n",
       "    <tr>\n",
       "      <th>2</th>\n",
       "      <td>inevitable</td>\n",
       "      <td>elbatiyveni</td>\n",
       "      <td>0.29</td>\n",
       "    </tr>\n",
       "    <tr>\n",
       "      <th>3</th>\n",
       "      <td>elbativeni</td>\n",
       "      <td>elbatiyveni</td>\n",
       "      <td>0.95</td>\n",
       "    </tr>\n",
       "    <tr>\n",
       "      <th>4</th>\n",
       "      <td>Computing</td>\n",
       "      <td>Service</td>\n",
       "      <td>0.12</td>\n",
       "    </tr>\n",
       "  </tbody>\n",
       "</table>\n",
       "</div>"
      ]
     },
     "execution_count": 35,
     "metadata": {},
     "output_type": "execute_result"
    }
   ],
   "execution_count": 35
  },
  {
   "cell_type": "code",
   "id": "dedec17a657a9432",
   "metadata": {
    "ExecuteTime": {
     "end_time": "2024-07-18T16:48:50.367609Z",
     "start_time": "2024-07-18T16:48:50.364337Z"
    }
   },
   "source": [
    "from fastfuzzymatch import FastFuzzyMatch\n",
    "import rapidfuzz\n",
    "from sklearn.decomposition import TruncatedSVD\n",
    "from sklearn.feature_extraction.text import TfidfVectorizer\n",
    "from sklearn.neighbors import NearestNeighbors\n",
    "\n",
    "ffm = FastFuzzyMatch(\n",
    "    clean=True,\n",
    "    merge=False,\n",
    "    embedding_model=TfidfVectorizer(analyzer='char', ngram_range=(1, 4)),\n",
    "    ##dimensionality_reduction_model=TruncatedSVD(n_components=100),\n",
    "    clustering_model=NearestNeighbors(n_neighbors=1, metric='cosine', n_jobs=-1),\n",
    "    fuzzy_model=rapidfuzz,\n",
    "    fuzzy_scorer=rapidfuzz.fuzz.token_sort_ratio\n",
    ")"
   ],
   "outputs": [],
   "execution_count": 44
  },
  {
   "metadata": {
    "ExecuteTime": {
     "end_time": "2024-07-18T16:49:43.423482Z",
     "start_time": "2024-07-18T16:49:42.797834Z"
    }
   },
   "cell_type": "code",
   "source": [
    "test = ffm.find_matches(\n",
    "    clean_df=words,\n",
    "    clean_column='word1',\n",
    "    dirty_df=words,\n",
    "    dirty_column='word2'\n",
    ")\n",
    "\n",
    "test.head()"
   ],
   "id": "765f2e910e850bb1",
   "outputs": [
    {
     "name": "stderr",
     "output_type": "stream",
     "text": [
      "2024-07-18 17:49:42,798 - INFO - Cleaning text in column: word1\n",
      "2024-07-18 17:49:42,805 - INFO - Cleaning text in column: word2\n",
      "2024-07-18 17:49:42,812 - INFO - Starting similarity search.\n",
      "2024-07-18 17:49:42,812 - INFO - Creating embeddings for clean and dirty data.\n",
      "2024-07-18 17:49:42,990 - INFO - Clustering data.\n",
      "2024-07-18 17:49:43,401 - INFO - Starting fuzzy search.\n",
      "Fuzzy Matching Progress: 100%|██████████| 5649/5649 [00:00<00:00, 388668.55it/s]\n",
      "2024-07-18 17:49:43,419 - INFO - Fuzzy matching completed in 0.6068644523620605 seconds\n"
     ]
    },
    {
     "data": {
      "text/plain": [
       "         word2              Result      score\n",
       "0  inevyitable  coming inevyitable  75.862069\n",
       "1  elbatiyveni          elbativeni  95.238095\n",
       "2      service    service incloden  60.869565\n",
       "3      ecivres      ecivresyawliar  66.666667\n",
       "4      visited               visit  83.333333"
      ],
      "text/html": [
       "<div>\n",
       "<style scoped>\n",
       "    .dataframe tbody tr th:only-of-type {\n",
       "        vertical-align: middle;\n",
       "    }\n",
       "\n",
       "    .dataframe tbody tr th {\n",
       "        vertical-align: top;\n",
       "    }\n",
       "\n",
       "    .dataframe thead th {\n",
       "        text-align: right;\n",
       "    }\n",
       "</style>\n",
       "<table border=\"1\" class=\"dataframe\">\n",
       "  <thead>\n",
       "    <tr style=\"text-align: right;\">\n",
       "      <th></th>\n",
       "      <th>word2</th>\n",
       "      <th>Result</th>\n",
       "      <th>score</th>\n",
       "    </tr>\n",
       "  </thead>\n",
       "  <tbody>\n",
       "    <tr>\n",
       "      <th>0</th>\n",
       "      <td>inevyitable</td>\n",
       "      <td>coming inevyitable</td>\n",
       "      <td>75.862069</td>\n",
       "    </tr>\n",
       "    <tr>\n",
       "      <th>1</th>\n",
       "      <td>elbatiyveni</td>\n",
       "      <td>elbativeni</td>\n",
       "      <td>95.238095</td>\n",
       "    </tr>\n",
       "    <tr>\n",
       "      <th>2</th>\n",
       "      <td>service</td>\n",
       "      <td>service incloden</td>\n",
       "      <td>60.869565</td>\n",
       "    </tr>\n",
       "    <tr>\n",
       "      <th>3</th>\n",
       "      <td>ecivres</td>\n",
       "      <td>ecivresyawliar</td>\n",
       "      <td>66.666667</td>\n",
       "    </tr>\n",
       "    <tr>\n",
       "      <th>4</th>\n",
       "      <td>visited</td>\n",
       "      <td>visit</td>\n",
       "      <td>83.333333</td>\n",
       "    </tr>\n",
       "  </tbody>\n",
       "</table>\n",
       "</div>"
      ]
     },
     "execution_count": 46,
     "metadata": {},
     "output_type": "execute_result"
    }
   ],
   "execution_count": 46
  },
  {
   "metadata": {},
   "cell_type": "markdown",
   "source": "",
   "id": "14ea3d76cafebb40"
  }
 ],
 "metadata": {
  "kernelspec": {
   "display_name": "Python 3 (ipykernel)",
   "language": "python",
   "name": "python3"
  },
  "language_info": {
   "codemirror_mode": {
    "name": "ipython",
    "version": 3
   },
   "file_extension": ".py",
   "mimetype": "text/x-python",
   "name": "python",
   "nbconvert_exporter": "python",
   "pygments_lexer": "ipython3",
   "version": "3.12.4"
  }
 },
 "nbformat": 4,
 "nbformat_minor": 5
}
